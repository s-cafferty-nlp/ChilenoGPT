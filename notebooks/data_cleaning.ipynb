{
 "cells": [
  {
   "cell_type": "code",
   "execution_count": 20,
   "metadata": {},
   "outputs": [
    {
     "name": "stderr",
     "output_type": "stream",
     "text": [
      "100%|██████████| 273499/273499 [00:00<00:00, 324984.00it/s]\n"
     ]
    }
   ],
   "source": [
    "import re\n",
    "from tqdm import tqdm\n",
    "\n",
    "def clean_text(path):\n",
    "    \n",
    "    file = open(path, 'r')\n",
    "    lines = file.readlines()\n",
    "\n",
    "    new_lines = []\n",
    "\n",
    "    for line in tqdm(lines):\n",
    "        line = re.sub(r'http\\S+', '', line)\n",
    "        line = re.sub(\"[\\(\\[].*?[\\)\\]]\", \"\", line)\n",
    "        regexp = '>\\S+|@\\S+|&\\S+|<\\S+'\n",
    "        line = re.sub('[>\\-\\*@#$\\(\\)\\[\\]]', '', line)\n",
    "        line = re.sub(regexp, '', line) \n",
    "        new_lines.append(line)\n",
    "\n",
    "    new_file = open('../data/clean_chilean_reddit.txt','w')\n",
    "    for line in new_lines:\n",
    "        new_file.write(line)\n",
    "    new_file.close()\n",
    "\n",
    "clean_text('../data/chilean_reddit.txt')"
   ]
  }
 ],
 "metadata": {
  "kernelspec": {
   "display_name": "Python 3",
   "language": "python",
   "name": "python3"
  },
  "language_info": {
   "codemirror_mode": {
    "name": "ipython",
    "version": 3
   },
   "file_extension": ".py",
   "mimetype": "text/x-python",
   "name": "python",
   "nbconvert_exporter": "python",
   "pygments_lexer": "ipython3",
   "version": "3.9.6 (default, Oct 18 2022, 12:41:40) \n[Clang 14.0.0 (clang-1400.0.29.202)]"
  },
  "orig_nbformat": 4,
  "vscode": {
   "interpreter": {
    "hash": "31f2aee4e71d21fbe5cf8b01ff0e069b9275f58929596ceb00d14d90e3e16cd6"
   }
  }
 },
 "nbformat": 4,
 "nbformat_minor": 2
}
