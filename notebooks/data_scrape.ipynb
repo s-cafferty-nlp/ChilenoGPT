{
 "cells": [
  {
   "cell_type": "code",
   "execution_count": null,
   "metadata": {},
   "outputs": [],
   "source": [
    "'Mozilla/5.0 (Macintosh; Intel Mac OS X 10_15_7) AppleWebKit/537.36 (KHTML, like Gecko) Chrome/110.0.0.0 Safari/537.36'\n",
    "'https://corpora.pro/usr/useracct-act.php'\n",
    "\n",
    "'User-Agent: Mozilla/5.0 (Macintosh; Intel Mac OS X 10_15_7) AppleWebKit/537.36 (KHTML, like Gecko) Chrome/110.0.0.0 Safari/537.36'"
   ]
  },
  {
   "cell_type": "code",
   "execution_count": 3,
   "metadata": {},
   "outputs": [
    {
     "name": "stdout",
     "output_type": "stream",
     "text": [
      "Defaulting to user installation because normal site-packages is not writeable\n",
      "Collecting requests\n",
      "  Downloading requests-2.28.2-py3-none-any.whl (62 kB)\n",
      "\u001b[K     |████████████████████████████████| 62 kB 295 kB/s eta 0:00:01\n",
      "\u001b[?25hRequirement already satisfied: idna<4,>=2.5 in /Users/scafferty/Library/Python/3.9/lib/python/site-packages (from requests) (3.4)\n",
      "Collecting charset-normalizer<4,>=2\n",
      "  Downloading charset_normalizer-3.1.0-cp39-cp39-macosx_11_0_arm64.whl (122 kB)\n",
      "\u001b[K     |████████████████████████████████| 122 kB 788 kB/s eta 0:00:01\n",
      "\u001b[?25hCollecting certifi>=2017.4.17\n",
      "  Downloading certifi-2022.12.7-py3-none-any.whl (155 kB)\n",
      "\u001b[K     |████████████████████████████████| 155 kB 2.1 MB/s eta 0:00:01\n",
      "\u001b[?25hCollecting urllib3<1.27,>=1.21.1\n",
      "  Downloading urllib3-1.26.15-py2.py3-none-any.whl (140 kB)\n",
      "\u001b[K     |████████████████████████████████| 140 kB 2.8 MB/s eta 0:00:01\n",
      "\u001b[?25hInstalling collected packages: urllib3, charset-normalizer, certifi, requests\n",
      "\u001b[33m  WARNING: The script normalizer is installed in '/Users/scafferty/Library/Python/3.9/bin' which is not on PATH.\n",
      "  Consider adding this directory to PATH or, if you prefer to suppress this warning, use --no-warn-script-location.\u001b[0m\n",
      "Successfully installed certifi-2022.12.7 charset-normalizer-3.1.0 requests-2.28.2 urllib3-1.26.15\n",
      "\u001b[33mWARNING: You are using pip version 21.2.4; however, version 23.0.1 is available.\n",
      "You should consider upgrading via the '/Library/Developer/CommandLineTools/usr/bin/python3 -m pip install --upgrade pip' command.\u001b[0m\n",
      "Note: you may need to restart the kernel to use updated packages.\n"
     ]
    }
   ],
   "source": [
    "pip install requests"
   ]
  },
  {
   "cell_type": "code",
   "execution_count": 23,
   "metadata": {},
   "outputs": [],
   "source": [
    "from bs4 import BeautifulSoup as bs\n",
    "import requests\n",
    "URL = 'https://www.corpora.pro'\n",
    "LOGIN_ROUTE = '/'\n",
    "HEADERS = {'User-Agent': 'Mozilla/5.0 (Macintosh; Intel Mac OS X 10_15_7) AppleWebKit/537.36 (KHTML, like Gecko) Chrome/110.0.0.0 Safari/537.36', 'origin': URL, 'referer': URL + LOGIN_ROUTE}"
   ]
  },
  {
   "cell_type": "code",
   "execution_count": 24,
   "metadata": {},
   "outputs": [],
   "source": [
    "s = requests.session()"
   ]
  },
  {
   "cell_type": "code",
   "execution_count": 27,
   "metadata": {},
   "outputs": [],
   "source": [
    "csrf_token = s.get(URL).cookies#['csrftoken']"
   ]
  },
  {
   "cell_type": "code",
   "execution_count": 28,
   "metadata": {},
   "outputs": [
    {
     "data": {
      "text/plain": [
       "<RequestsCookieJar[]>"
      ]
     },
     "execution_count": 28,
     "metadata": {},
     "output_type": "execute_result"
    }
   ],
   "source": [
    "csrf_token"
   ]
  },
  {
   "cell_type": "code",
   "execution_count": 63,
   "metadata": {},
   "outputs": [],
   "source": [
    "login_payload = {\n",
    "        'login': 'caffsean',\n",
    "        'password': 'Jamtart1!'\n",
    "}"
   ]
  },
  {
   "cell_type": "code",
   "execution_count": 64,
   "metadata": {},
   "outputs": [],
   "source": [
    "login_req = s.post('https://www.corpora.pro', headers=HEADERS, data=login_payload)"
   ]
  },
  {
   "cell_type": "code",
   "execution_count": 65,
   "metadata": {},
   "outputs": [
    {
     "name": "stdout",
     "output_type": "stream",
     "text": [
      "200\n"
     ]
    }
   ],
   "source": [
    "print(login_req.status_code)"
   ]
  },
  {
   "cell_type": "code",
   "execution_count": 66,
   "metadata": {},
   "outputs": [],
   "source": [
    "cookies = login_req.cookies"
   ]
  },
  {
   "cell_type": "code",
   "execution_count": 68,
   "metadata": {},
   "outputs": [
    {
     "data": {
      "text/plain": [
       "<Response [200]>"
      ]
     },
     "execution_count": 68,
     "metadata": {},
     "output_type": "execute_result"
    }
   ],
   "source": [
    "login_req"
   ]
  },
  {
   "cell_type": "code",
   "execution_count": 69,
   "metadata": {},
   "outputs": [],
   "source": [
    "URL2 = 'https://www.corpora.pro/coscach_full__1_0/redirect.php?qname=hbz0c3y61zc&batch=0&contextSize=10000&text=CBM_WLM_2FE_01_conver&altview=0&redirect=moreContext'"
   ]
  },
  {
   "cell_type": "code",
   "execution_count": 70,
   "metadata": {},
   "outputs": [],
   "source": [
    "soup = bs(s.get(URL2).text, 'html.parser')"
   ]
  },
  {
   "cell_type": "code",
   "execution_count": 71,
   "metadata": {},
   "outputs": [
    {
     "data": {
      "text/plain": [
       "\n",
       "<!DOCTYPE html>\n",
       "\n",
       "<html lang=\"en\">\n",
       "<head>\n",
       "<meta charset=\"utf-8\"/>\n",
       "<!-- CQPweb application data -->\n",
       "<meta content=\"CQPweb\" data-urlprefix=\"../\" id=\"CQPwebGlobalApplicationData\" name=\"application-name\"/>\n",
       "<title>Corpora.pro User Page</title>\n",
       "<link href=\"../css/CQPweb-green.css\" rel=\"stylesheet\" type=\"text/css\"/>\n",
       "<script src=\"../jsc/jquery.js\"></script>\n",
       "<script defer=\"\" src=\"../jsc/always.js\"></script>\n",
       "<script defer=\"\" src=\"../jsc/tooltip.js\"></script>\n",
       "<script defer=\"\" src=\"../jsc/cword.js\"></script>\n",
       "<script defer=\"\" src=\"../jsc/useracct-create.js\"></script>\n",
       "</head>\n",
       "<body>\n",
       "<!-- main table -->\n",
       "<table class=\"concordtable fullwidth\">\n",
       "<tr>\n",
       "<td valign=\"top\">\n",
       "<!-- start of cell with left-hand menu -->\n",
       "<table class=\"concordtable fullwidth\">\n",
       "<tr>\n",
       "<th class=\"concordtable\"><a class=\"menuHeaderItem\" href=\"https://www.corpora.pro/\"><img height=\"\" src=\"../css/img/coscach_text_logo_bare.png\" width=\"200\"/></a></th>\n",
       "</tr>\n",
       "</table>\n",
       "<table class=\"concordtable fullwidth\">\n",
       "<tr><th class=\"concordtable\"><a class=\"menuHeaderItem\">Account actions</a></th></tr>\n",
       "<tr>\n",
       "<td class=\"concordgeneral\">\n",
       "<a class=\"menuItem\" href=\"index.php?ui=login\">Log in to CQPweb</a>\n",
       "</td>\n",
       "</tr>\n",
       "<tr>\n",
       "<td class=\"concordgeneral\">\n",
       "<a class=\"menuItem\" href=\"index.php?ui=create\">Create new user account</a>\n",
       "</td>\n",
       "</tr>\n",
       "<tr>\n",
       "<td class=\"concordgeneral\">\n",
       "<a class=\"menuItem\" href=\"index.php?ui=verify\">Activate new account</a>\n",
       "</td>\n",
       "</tr>\n",
       "<tr>\n",
       "<td class=\"concordgeneral\">\n",
       "<a class=\"menuItem\" href=\"index.php?ui=resend\">Resend account activation</a>\n",
       "</td>\n",
       "</tr>\n",
       "<tr>\n",
       "<td class=\"concordgeneral\">\n",
       "<a class=\"menuItem\" href=\"index.php?ui=lostUsername\">Retrieve lost username</a>\n",
       "</td>\n",
       "</tr>\n",
       "<tr>\n",
       "<td class=\"concordgeneral\">\n",
       "<a class=\"menuItem\" href=\"index.php?ui=lostPassword\">Reset lost password</a>\n",
       "</td>\n",
       "</tr>\n",
       "<tr><th class=\"concordtable\"><a class=\"menuHeaderItem\">About CQPweb</a></th></tr>\n",
       "<tr>\n",
       "<td class=\"concordgeneral\">\n",
       "<a class=\"menuItem hasToolTip\" data-tooltip=\"Go to the main homepage for this CQPweb server\" href=\"../\" id=\"menu:about:homepage\">\n",
       "\t\t\tCQPweb main menu\n",
       "\t\t</a>\n",
       "</td>\n",
       "</tr>\n",
       "<tr>\n",
       "<td class=\"concordgeneral\">\n",
       "<a class=\"menuItem hasToolTip\" data-tooltip=\"Account control and your personal settings\" href=\"../usr\" id=\"menu:about:account\">\n",
       "\t\t\tYour user page\n",
       "\t\t</a>\n",
       "</td>\n",
       "</tr>\n",
       "<tr>\n",
       "<td class=\"concordgeneral\">\n",
       "<a class=\"menuItem hasToolTip\" data-tooltip=\"Open the help browser for this corpus\" href=\"help.php\" id=\"menu:about:help\" target=\"cqpweb_help_browser\">\n",
       "\t\t\tHelp system\n",
       "\t\t</a>\n",
       "</td>\n",
       "</tr>\n",
       "<tr>\n",
       "<td class=\"concordgeneral\">\n",
       "<a class=\"menuItem hasToolTip\" data-tooltip=\"CQPweb video tutorials (on YouTube)\" href=\"http://www.youtube.com/playlist?list=PL2XtJIhhrHNQgf4Dp6sckGZRU4NiUVw1e\" id=\"menu:about:videos\" target=\"_blank\">\n",
       "\t\t\tVideo tutorials\n",
       "\t\t</a>\n",
       "</td>\n",
       "</tr>\n",
       "<tr>\n",
       "<td class=\"concordgeneral\">\n",
       "<a class=\"menuItem\" href=\"index.php?ui=who_the_hell\">Who did it?</a>\n",
       "</td>\n",
       "</tr>\n",
       "<tr>\n",
       "<td class=\"concordgeneral\">\n",
       "<a class=\"menuItem\" href=\"index.php?ui=latest\">Latest news</a>\n",
       "</td>\n",
       "</tr>\n",
       "<tr>\n",
       "<td class=\"concordgeneral\">\n",
       "<a class=\"menuItem\" href=\"index.php?ui=bugs\">Report bugs</a>\n",
       "</td>\n",
       "</tr>\n",
       "</table>\n",
       "<!--  end of cell with left-hand menu -->\n",
       "</td>\n",
       "<td valign=\"top\">\n",
       "<!--  start of cell with right-hand content -->\n",
       "<table class=\"concordtable fullwidth\">\n",
       "<tr>\n",
       "<th class=\"concordtable\">\n",
       "<a class=\"menuHeaderItem\">\n",
       "\t\t\t\tCorpora.pro User Page\n",
       "\t\t\t</a>\n",
       "</th>\n",
       "</tr>\n",
       "</table>\n",
       "<table class=\"concordtable fullwidth\">\n",
       "<tr>\n",
       "<th class=\"concordtable\">\n",
       "\t\t\t\tAccess denied!\n",
       "\t\t\t</th>\n",
       "</tr>\n",
       "<tr>\n",
       "<td class=\"concordgeneral\">\n",
       "<p class=\"spacer\"> </p>\n",
       "<p>\n",
       "\t\t\t\t\t\tYou cannot access that corpus because you are not logged in.\n",
       "\t\t\t\t\t</p>\n",
       "<p>\n",
       "\t\t\t\t\t\tPlease <a href=\"../usr/index.php?ui=login\">log in to CQPweb</a> and then try again!\n",
       "\t\t\t\t\t</p>\n",
       "<p class=\"spacer\"> </p>\n",
       "</td>\n",
       "</tr>\n",
       "</table>\n",
       "<!--  end of cell with right-hand content -->\n",
       "</td>\n",
       "</tr>\n",
       "</table>\n",
       "<hr/>\n",
       "<table class=\"concordtable fullwidth\">\n",
       "<tr>\n",
       "<td align=\"left\" class=\"cqpweb_copynote\" width=\"33%\">\n",
       "\t\t\t\tCQPweb v3.2.43 © 2008-2021\n",
       "\t\t\t</td>\n",
       "<td align=\"center\" class=\"cqpweb_copynote\" width=\"33%\">\n",
       "<a class=\"cqpweb_copynote_link\" href=\"help.php?ui=hello\" target=\"cqpweb_help_browser\">Help! on CQPweb</a>\n",
       "</td>\n",
       "<td align=\"right\" class=\"cqpweb_copynote\" width=\"33%\">\n",
       "\t\t\t\tYou are not logged in\n",
       "\t\t\t</td>\n",
       "</tr>\n",
       "</table>\n",
       "<div class=\"floatingToolTip\" id=\"templateForToolTip\">\n",
       "<table class=\"floatingToolTipFrame\">\n",
       "<tr>\n",
       "<td class=\"floatingToolTipTarget\">\n",
       "\t\t\t\t\t \n",
       "\t\t\t\t</td>\n",
       "</tr>\n",
       "</table>\n",
       "</div>\n",
       "</body>\n",
       "</html>"
      ]
     },
     "execution_count": 71,
     "metadata": {},
     "output_type": "execute_result"
    }
   ],
   "source": [
    "soup"
   ]
  },
  {
   "cell_type": "code",
   "execution_count": null,
   "metadata": {},
   "outputs": [],
   "source": []
  }
 ],
 "metadata": {
  "kernelspec": {
   "display_name": "Python 3",
   "language": "python",
   "name": "python3"
  },
  "language_info": {
   "codemirror_mode": {
    "name": "ipython",
    "version": 3
   },
   "file_extension": ".py",
   "mimetype": "text/x-python",
   "name": "python",
   "nbconvert_exporter": "python",
   "pygments_lexer": "ipython3",
   "version": "3.9.6"
  },
  "orig_nbformat": 4,
  "vscode": {
   "interpreter": {
    "hash": "31f2aee4e71d21fbe5cf8b01ff0e069b9275f58929596ceb00d14d90e3e16cd6"
   }
  }
 },
 "nbformat": 4,
 "nbformat_minor": 2
}
