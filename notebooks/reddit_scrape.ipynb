{
 "cells": [
  {
   "cell_type": "code",
   "execution_count": 2,
   "metadata": {},
   "outputs": [
    {
     "name": "stdout",
     "output_type": "stream",
     "text": [
      "Defaulting to user installation because normal site-packages is not writeable\n",
      "Collecting praw\n",
      "  Downloading praw-7.7.0-py3-none-any.whl (189 kB)\n",
      "\u001b[2K     \u001b[90m━━━━━━━━━━━━━━━━━━━━━━━━━━━━━━━━━━━━━\u001b[0m \u001b[32m189.4/189.4 kB\u001b[0m \u001b[31m533.9 kB/s\u001b[0m eta \u001b[36m0:00:00\u001b[0ma \u001b[36m0:00:01\u001b[0m\n",
      "\u001b[?25hCollecting update-checker>=0.18\n",
      "  Downloading update_checker-0.18.0-py3-none-any.whl (7.0 kB)\n",
      "Collecting prawcore<3,>=2.1\n",
      "  Downloading prawcore-2.3.0-py3-none-any.whl (16 kB)\n",
      "Requirement already satisfied: websocket-client>=0.54.0 in /Users/scafferty/Library/Python/3.9/lib/python/site-packages (from praw) (1.4.2)\n",
      "Requirement already satisfied: requests<3.0,>=2.6.0 in /Users/scafferty/Library/Python/3.9/lib/python/site-packages (from prawcore<3,>=2.1->praw) (2.28.2)\n",
      "Requirement already satisfied: urllib3<1.27,>=1.21.1 in /Users/scafferty/Library/Python/3.9/lib/python/site-packages (from requests<3.0,>=2.6.0->prawcore<3,>=2.1->praw) (1.26.15)\n",
      "Requirement already satisfied: certifi>=2017.4.17 in /Users/scafferty/Library/Python/3.9/lib/python/site-packages (from requests<3.0,>=2.6.0->prawcore<3,>=2.1->praw) (2022.12.7)\n",
      "Requirement already satisfied: idna<4,>=2.5 in /Users/scafferty/Library/Python/3.9/lib/python/site-packages (from requests<3.0,>=2.6.0->prawcore<3,>=2.1->praw) (3.4)\n",
      "Requirement already satisfied: charset-normalizer<4,>=2 in /Users/scafferty/Library/Python/3.9/lib/python/site-packages (from requests<3.0,>=2.6.0->prawcore<3,>=2.1->praw) (3.1.0)\n",
      "Installing collected packages: update-checker, prawcore, praw\n",
      "Successfully installed praw-7.7.0 prawcore-2.3.0 update-checker-0.18.0\n",
      "\n",
      "\u001b[1m[\u001b[0m\u001b[34;49mnotice\u001b[0m\u001b[1;39;49m]\u001b[0m\u001b[39;49m A new release of pip is available: \u001b[0m\u001b[31;49m23.0.1\u001b[0m\u001b[39;49m -> \u001b[0m\u001b[32;49m23.1.1\u001b[0m\n",
      "\u001b[1m[\u001b[0m\u001b[34;49mnotice\u001b[0m\u001b[1;39;49m]\u001b[0m\u001b[39;49m To update, run: \u001b[0m\u001b[32;49m/Library/Developer/CommandLineTools/usr/bin/python3 -m pip install --upgrade pip\u001b[0m\n"
     ]
    }
   ],
   "source": [
    "!pip3 install praw"
   ]
  },
  {
   "cell_type": "code",
   "execution_count": 8,
   "metadata": {},
   "outputs": [],
   "source": [
    "import praw\n",
    "# Read-only instance\n",
    "\n",
    "\n",
    "reddit_read_only = praw.Reddit(client_id=\"\",         # your client id\n",
    "                               client_secret=\"\",      # your client secret\n",
    "                               user_agent=\"chileno\")        # your user agent\n",
    " \n",
    "# Authorized instance\n",
    "# reddit_authorized = praw.Reddit(client_id=\"\",         # your client id\n",
    "#                                 client_secret=\"\",      # your client secret\n",
    "#                                 user_agent=\"\",        # your user agent\n",
    "#                                 username=\"\",        # your reddit username\n",
    "#                                 password=\"\")  "
   ]
  },
  {
   "cell_type": "code",
   "execution_count": 14,
   "metadata": {},
   "outputs": [],
   "source": [
    " \n",
    "subreddit = reddit_read_only.subreddit(\"Chile\")\n",
    " \n",
    "# # Display the name of the Subreddit\n",
    "# print(\"Display Name:\", subreddit.display_name)\n",
    " \n",
    "# # Display the title of the Subreddit\n",
    "# print(\"Title:\", subreddit.title)\n",
    " \n",
    "# # Display the description of the Subreddit\n",
    "# print(\"Description:\", subreddit.description)"
   ]
  },
  {
   "cell_type": "code",
   "execution_count": 33,
   "metadata": {},
   "outputs": [],
   "source": [
    "from tqdm import tqdm\n",
    "import time"
   ]
  },
  {
   "cell_type": "code",
   "execution_count": 41,
   "metadata": {},
   "outputs": [],
   "source": [
    "def extract_reddit_comments(name_of_subreddit):\n",
    "    subreddit = reddit_read_only.subreddit(name_of_subreddit)\n",
    "    categories = ['day', 'hour', 'month', 'week', 'all', 'year']\n",
    "    \n",
    "    post_ids = []\n",
    "\n",
    "    for cat in categories:\n",
    "        posts = subreddit.top(cat,limit=500)\n",
    "        for post in posts:\n",
    "            post_ids.append(post.id)\n",
    "\n",
    "    post_ids = list(set(post_ids))\n",
    "\n",
    "    comments = []\n",
    "    \n",
    "    for idx, id in enumerate(tqdm(post_ids)):\n",
    "        if idx % 98 == 0:\n",
    "            time.sleep(5)\n",
    "        submission = reddit_read_only.submission(id)\n",
    "        submission.comments.replace_more(limit=None)\n",
    "        comment_queue = submission.comments[:]\n",
    "        while comment_queue:\n",
    "            comment = comment_queue.pop(0)\n",
    "            comments.append(comment.body)\n",
    "            comment_queue.extend(comment.replies)\n",
    "\n",
    "    # file = open('../data/chilean_reddit.txt','w')\n",
    "    # for comment in comments:\n",
    "    #     file.write(comment+\"\\n\")\n",
    "    # file.close()\n",
    "    # print(len(post_ids))\n",
    "    return comments\n",
    "\n",
    "# comments = extract_reddit_comments('Chile')"
   ]
  },
  {
   "cell_type": "code",
   "execution_count": null,
   "metadata": {},
   "outputs": [],
   "source": []
  }
 ],
 "metadata": {
  "kernelspec": {
   "display_name": "Python 3",
   "language": "python",
   "name": "python3"
  },
  "language_info": {
   "codemirror_mode": {
    "name": "ipython",
    "version": 3
   },
   "file_extension": ".py",
   "mimetype": "text/x-python",
   "name": "python",
   "nbconvert_exporter": "python",
   "pygments_lexer": "ipython3",
   "version": "3.9.6 (default, Oct 18 2022, 12:41:40) \n[Clang 14.0.0 (clang-1400.0.29.202)]"
  },
  "orig_nbformat": 4,
  "vscode": {
   "interpreter": {
    "hash": "31f2aee4e71d21fbe5cf8b01ff0e069b9275f58929596ceb00d14d90e3e16cd6"
   }
  }
 },
 "nbformat": 4,
 "nbformat_minor": 2
}
